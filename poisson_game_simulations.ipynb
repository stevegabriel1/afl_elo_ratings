{
  "nbformat": 4,
  "nbformat_minor": 0,
  "metadata": {
    "colab": {
      "name": "poisson_game_simulations.ipynb",
      "provenance": [],
      "include_colab_link": true
    },
    "kernelspec": {
      "name": "python3",
      "display_name": "Python 3"
    },
    "language_info": {
      "name": "python"
    }
  },
  "cells": [
    {
      "cell_type": "markdown",
      "metadata": {
        "id": "view-in-github",
        "colab_type": "text"
      },
      "source": [
        "<a href=\"https://colab.research.google.com/github/stevegabriel1/afl_elo_ratings/blob/main/poisson_game_simulations.ipynb\" target=\"_parent\"><img src=\"https://colab.research.google.com/assets/colab-badge.svg\" alt=\"Open In Colab\"/></a>"
      ]
    },
    {
      "cell_type": "markdown",
      "metadata": {
        "id": "edGQaqm87jDy"
      },
      "source": [
        "Poisson AFL game modelling"
      ]
    },
    {
      "cell_type": "markdown",
      "metadata": {
        "id": "WEnug7EV768W"
      },
      "source": [
        "Start with simplest possible model - team scores average of 9 goals per match (behinds ignored)"
      ]
    },
    {
      "cell_type": "markdown",
      "metadata": {
        "id": "Q5-fgUtK9FIs"
      },
      "source": [
        "Model 22 rounds of games, which is 198 contest, or 396 scores."
      ]
    },
    {
      "cell_type": "code",
      "metadata": {
        "id": "-BofnHXd8zqZ"
      },
      "source": [
        "import numpy as np\n",
        "s = np.random.poisson(9, 396)"
      ],
      "execution_count": 2,
      "outputs": []
    },
    {
      "cell_type": "code",
      "metadata": {
        "colab": {
          "base_uri": "https://localhost:8080/",
          "height": 265
        },
        "id": "VkYNbcLI85Wh",
        "outputId": "7d90a742-9bf9-4597-b837-9c6f25aa3cae"
      },
      "source": [
        "import matplotlib.pyplot as plt\n",
        "count, bins, ignored = plt.hist(s, 14, density=False)\n",
        "plt.show()"
      ],
      "execution_count": 3,
      "outputs": [
        {
          "output_type": "display_data",
          "data": {
            "image/png": "[encoded data removed]",
            "text/plain": [
              "<Figure size 432x288 with 1 Axes>"
            ]
          },
          "metadata": {
            "tags": [],
            "needs_background": "light"
          }
        }
      ]
    },
    {
      "cell_type": "markdown",
      "metadata": {
        "id": "BEPAlLXb-CFp"
      },
      "source": [
        "A micro view simulation, is for a 10 minute segment. We could say 1.2 (8)is the average. The two processes are goals and behinds."
      ]
    },
    {
      "cell_type": "code",
      "metadata": {
        "id": "SLHQJKP5-Cqn"
      },
      "source": [
        "goals = np.random.poisson(1,1000)\n",
        "behinds = np.random.poisson(2,1000)"
      ],
      "execution_count": 4,
      "outputs": []
    },
    {
      "cell_type": "code",
      "metadata": {
        "colab": {
          "base_uri": "https://localhost:8080/",
          "height": 269
        },
        "id": "HaHM3DDFFj8d",
        "outputId": "ac7c0223-afa9-432a-83d8-9026e15cd5bf"
      },
      "source": [
        "count, bins, ignored = plt.hist(behinds, 16, density=False, color = 'orange')\n",
        "count, bins, ignored = plt.hist(goals, 16, density=False, color = 'green')\n",
        "plt.show()"
      ],
      "execution_count": 5,
      "outputs": [
        {
          "output_type": "display_data",
          "data": {
            "image/png": "[encoded data removed]",
            "text/plain": [
              "<Figure size 432x288 with 1 Axes>"
            ]
          },
          "metadata": {
            "tags": [],
            "needs_background": "light"
          }
        }
      ]
    },
    {
      "cell_type": "code",
      "metadata": {
        "id": "3zmI6T_yF0A5"
      },
      "source": [
        "total = (6 *goals) + behinds"
      ],
      "execution_count": 6,
      "outputs": []
    },
    {
      "cell_type": "code",
      "metadata": {
        "colab": {
          "base_uri": "https://localhost:8080/",
          "height": 265
        },
        "id": "QbBBNq8WG8TS",
        "outputId": "44b20826-34bf-4bb2-a7a3-67ad2ad92035"
      },
      "source": [
        "count, bins, ignored = plt.hist(total, 80, density=False, color = 'black')\n",
        "plt.show()"
      ],
      "execution_count": 7,
      "outputs": [
        {
          "output_type": "display_data",
          "data": {
            "image/png": "[encoded data removed]",
            "text/plain": [
              "<Figure size 432x288 with 1 Axes>"
            ]
          },
          "metadata": {
            "tags": [],
            "needs_background": "light"
          }
        }
      ]
    },
    {
      "cell_type": "markdown",
      "metadata": {
        "id": "jiq0wFL-H_Vn"
      },
      "source": [
        "Can see above, that for 1000 repetitions, 37 points is the maximum, and zero occurs approx 52 times or 5 %."
      ]
    },
    {
      "cell_type": "code",
      "metadata": {
        "id": "rIdpSV6XIAZj"
      },
      "source": [
        ""
      ],
      "execution_count": null,
      "outputs": []
    }
  ]
}