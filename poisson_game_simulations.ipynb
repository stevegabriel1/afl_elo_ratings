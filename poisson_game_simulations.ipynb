{
  "nbformat": 4,
  "nbformat_minor": 0,
  "metadata": {
    "colab": {
      "name": "Untitled2.ipynb",
      "provenance": [],
      "authorship_tag": "ABX9TyMggZvC6sF+gRkPMaGk4Euv",
      "include_colab_link": true
    },
    "kernelspec": {
      "name": "python3",
      "display_name": "Python 3"
    },
    "language_info": {
      "name": "python"
    }
  },
  "cells": [
    {
      "cell_type": "markdown",
      "metadata": {
        "id": "view-in-github",
        "colab_type": "text"
      },
      "source": [
        "<a href=\"https://colab.research.google.com/github/stevegabriel1/afl_elo_ratings/blob/main/poisson_game_simulations.ipynb\" target=\"_parent\"><img src=\"https://colab.research.google.com/assets/colab-badge.svg\" alt=\"Open In Colab\"/></a>"
      ]
    },
    {
      "cell_type": "markdown",
      "metadata": {
        "id": "edGQaqm87jDy"
      },
      "source": [
        "Poisson AFL game modelling"
      ]
    },
    {
      "cell_type": "markdown",
      "metadata": {
        "id": "WEnug7EV768W"
      },
      "source": [
        "Start with simplest possible model - team scores average of 9 goals per match (behinds ignored)"
      ]
    },
    {
      "cell_type": "markdown",
      "metadata": {
        "id": "Q5-fgUtK9FIs"
      },
      "source": [
        "Model 22 rounds of games, which is 198 contest, or 396 scores."
      ]
    },
    {
      "cell_type": "code",
      "metadata": {
        "id": "-BofnHXd8zqZ"
      },
      "source": [
        "import numpy as np\n",
        "s = np.random.poisson(9, 396)"
      ],
      "execution_count": 1,
      "outputs": []
    },
    {
      "cell_type": "code",
      "metadata": {
        "colab": {
          "base_uri": "https://localhost:8080/",
          "height": 265
        },
        "id": "VkYNbcLI85Wh",
        "outputId": "2ac76e67-f8b9-4211-e0e7-238518a0f7fb"
      },
      "source": [
        "import matplotlib.pyplot as plt\n",
        "count, bins, ignored = plt.hist(s, 14, density=False)\n",
        "plt.show()"
      ],
      "execution_count": 3,
      "outputs": [
        {
          "output_type": "display_data",
          "data": {
            "image/png": "[encoded data removed]",
            "text/plain": [
              "<Figure size 432x288 with 1 Axes>"
            ]
          },
          "metadata": {
            "tags": [],
            "needs_background": "light"
          }
        }
      ]
    },
    {
      "cell_type": "markdown",
      "metadata": {
        "id": "BEPAlLXb-CFp"
      },
      "source": [
        "A detailed view simulation, is for a 10 minute segment. We could say 1.2 (8)is the average. The two process are goals and behinds."
      ]
    },
    {
      "cell_type": "code",
      "metadata": {
        "id": "SLHQJKP5-Cqn"
      },
      "source": [
        ""
      ],
      "execution_count": null,
      "outputs": []
    }
  ]
}