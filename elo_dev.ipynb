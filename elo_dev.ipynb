{
 "cells": [
  {
   "cell_type": "markdown",
   "metadata": {},
   "source": [
    "### ELO dev"
   ]
  },
  {
   "cell_type": "markdown",
   "metadata": {},
   "source": [
    "**AFLW 2021**"
   ]
  },
  {
   "cell_type": "markdown",
   "metadata": {},
   "source": [
    "Method:\n",
    "    \n",
    "    1. Start with 1500 points for all teams\n",
    "    2. The pre-season/starting E value (or win probability) equals 0.5 for all teams\n",
    "    3. After Round 1 results, re-rate each team with using the 'new rating' formula: New Rating = old rating + K(1 - win prob) if they won,or New Rating = old rating + K(0 - win prob) if they lost ::note that K = 20\n",
    "    4. For the 2nd round, matchups decide the new win probabilities which then provide predictions for each game. Use the win probability formula: the inverse of 1 + {10 to the power of [(opposing team rating - team rating divided) by 400]}\n",
    "    5. Repeat"
   ]
  },
  {
   "cell_type": "markdown",
   "metadata": {},
   "source": [
    "**Coding the ELO ratings**"
   ]
  },
  {
   "cell_type": "markdown",
   "metadata": {},
   "source": [
    "To program, this could be done per matchup, where each team has a pre-game rating, from which win probabilities are calculated (refer 4 above)\n",
    "\n",
    "Then, after the result is known, new team ratings are determined using the three required inputs - refer 3 above"
   ]
  },
  {
   "cell_type": "code",
   "execution_count": 1,
   "metadata": {},
   "outputs": [],
   "source": [
    "import pandas as pd"
   ]
  },
  {
   "cell_type": "code",
   "execution_count": null,
   "metadata": {},
   "outputs": [],
   "source": [
    "#def new_rate(rate, res, win_prob):\n",
    "    #nr = rate + 20*(res - win_prob)\n",
    "    #return nr"
   ]
  },
  {
   "cell_type": "code",
   "execution_count": null,
   "metadata": {},
   "outputs": [],
   "source": [
    "#new_rate(1500, 1, 0.5)"
   ]
  },
  {
   "cell_type": "code",
   "execution_count": 20,
   "metadata": {},
   "outputs": [],
   "source": [
    "team = ['CAR','COL','ESS','WCE']\n",
    "rate = [1500, 1500, 1500, 1500]\n",
    "win_prob = [0.4, 0.6, 0.55, 0.45]\n",
    "res = [1,0,1,0]"
   ]
  },
  {
   "cell_type": "code",
   "execution_count": 21,
   "metadata": {},
   "outputs": [],
   "source": [
    "df = pd.DataFrame(list(zip(team,rate, win_prob, res)),\n",
    "               columns =['team','rate', 'win_prob', 'res'])"
   ]
  },
  {
   "cell_type": "markdown",
   "metadata": {},
   "source": [
    "*Where a dataframe 'current' already exists with rating and win_prob values*"
   ]
  },
  {
   "cell_type": "code",
   "execution_count": 22,
   "metadata": {},
   "outputs": [],
   "source": [
    "def new_rate(df):\n",
    "    if df['res'] == 1:\n",
    "        df['new_rating'] = df['rate'] + (20*(1 - df['win_prob']))\n",
    "    elif df['res'] != 1:\n",
    "        df['new_rating'] = df['rate'] + (20*(0 - df['win_prob']))\n",
    "    return df"
   ]
  },
  {
   "cell_type": "code",
   "execution_count": 23,
   "metadata": {},
   "outputs": [
    {
     "data": {
      "text/html": [
       "<div>\n",
       "<style scoped>\n",
       "    .dataframe tbody tr th:only-of-type {\n",
       "        vertical-align: middle;\n",
       "    }\n",
       "\n",
       "    .dataframe tbody tr th {\n",
       "        vertical-align: top;\n",
       "    }\n",
       "\n",
       "    .dataframe thead th {\n",
       "        text-align: right;\n",
       "    }\n",
       "</style>\n",
       "<table border=\"1\" class=\"dataframe\">\n",
       "  <thead>\n",
       "    <tr style=\"text-align: right;\">\n",
       "      <th></th>\n",
       "      <th>team</th>\n",
       "      <th>rate</th>\n",
       "      <th>win_prob</th>\n",
       "      <th>res</th>\n",
       "    </tr>\n",
       "  </thead>\n",
       "  <tbody>\n",
       "    <tr>\n",
       "      <th>0</th>\n",
       "      <td>CAR</td>\n",
       "      <td>1500</td>\n",
       "      <td>0.40</td>\n",
       "      <td>1</td>\n",
       "    </tr>\n",
       "    <tr>\n",
       "      <th>1</th>\n",
       "      <td>COL</td>\n",
       "      <td>1500</td>\n",
       "      <td>0.60</td>\n",
       "      <td>0</td>\n",
       "    </tr>\n",
       "    <tr>\n",
       "      <th>2</th>\n",
       "      <td>ESS</td>\n",
       "      <td>1500</td>\n",
       "      <td>0.55</td>\n",
       "      <td>1</td>\n",
       "    </tr>\n",
       "    <tr>\n",
       "      <th>3</th>\n",
       "      <td>WCE</td>\n",
       "      <td>1500</td>\n",
       "      <td>0.45</td>\n",
       "      <td>0</td>\n",
       "    </tr>\n",
       "  </tbody>\n",
       "</table>\n",
       "</div>"
      ],
      "text/plain": [
       "  team  rate  win_prob  res\n",
       "0  CAR  1500      0.40    1\n",
       "1  COL  1500      0.60    0\n",
       "2  ESS  1500      0.55    1\n",
       "3  WCE  1500      0.45    0"
      ]
     },
     "execution_count": 23,
     "metadata": {},
     "output_type": "execute_result"
    }
   ],
   "source": [
    "df"
   ]
  },
  {
   "cell_type": "code",
   "execution_count": null,
   "metadata": {},
   "outputs": [],
   "source": [
    "# current['new_rating'] = current['column name'].apply(lambda x: 'value if condition is met' if x condition else 'value if condition is not met')"
   ]
  },
  {
   "cell_type": "code",
   "execution_count": 24,
   "metadata": {},
   "outputs": [],
   "source": [
    "df['new_rating'] = df['rate'] + (20*(df['res'] - df['win_prob']))"
   ]
  },
  {
   "cell_type": "code",
   "execution_count": 25,
   "metadata": {},
   "outputs": [
    {
     "data": {
      "text/html": [
       "<div>\n",
       "<style scoped>\n",
       "    .dataframe tbody tr th:only-of-type {\n",
       "        vertical-align: middle;\n",
       "    }\n",
       "\n",
       "    .dataframe tbody tr th {\n",
       "        vertical-align: top;\n",
       "    }\n",
       "\n",
       "    .dataframe thead th {\n",
       "        text-align: right;\n",
       "    }\n",
       "</style>\n",
       "<table border=\"1\" class=\"dataframe\">\n",
       "  <thead>\n",
       "    <tr style=\"text-align: right;\">\n",
       "      <th></th>\n",
       "      <th>team</th>\n",
       "      <th>rate</th>\n",
       "      <th>win_prob</th>\n",
       "      <th>res</th>\n",
       "      <th>new_rating</th>\n",
       "    </tr>\n",
       "  </thead>\n",
       "  <tbody>\n",
       "    <tr>\n",
       "      <th>0</th>\n",
       "      <td>CAR</td>\n",
       "      <td>1500</td>\n",
       "      <td>0.40</td>\n",
       "      <td>1</td>\n",
       "      <td>1512.0</td>\n",
       "    </tr>\n",
       "    <tr>\n",
       "      <th>1</th>\n",
       "      <td>COL</td>\n",
       "      <td>1500</td>\n",
       "      <td>0.60</td>\n",
       "      <td>0</td>\n",
       "      <td>1488.0</td>\n",
       "    </tr>\n",
       "    <tr>\n",
       "      <th>2</th>\n",
       "      <td>ESS</td>\n",
       "      <td>1500</td>\n",
       "      <td>0.55</td>\n",
       "      <td>1</td>\n",
       "      <td>1509.0</td>\n",
       "    </tr>\n",
       "    <tr>\n",
       "      <th>3</th>\n",
       "      <td>WCE</td>\n",
       "      <td>1500</td>\n",
       "      <td>0.45</td>\n",
       "      <td>0</td>\n",
       "      <td>1491.0</td>\n",
       "    </tr>\n",
       "  </tbody>\n",
       "</table>\n",
       "</div>"
      ],
      "text/plain": [
       "  team  rate  win_prob  res  new_rating\n",
       "0  CAR  1500      0.40    1      1512.0\n",
       "1  COL  1500      0.60    0      1488.0\n",
       "2  ESS  1500      0.55    1      1509.0\n",
       "3  WCE  1500      0.45    0      1491.0"
      ]
     },
     "execution_count": 25,
     "metadata": {},
     "output_type": "execute_result"
    }
   ],
   "source": [
    "df"
   ]
  },
  {
   "cell_type": "code",
   "execution_count": null,
   "metadata": {},
   "outputs": [],
   "source": [
    "### For the next matchups, calculate win probs:\n",
    "### For example winners play each other, losers play eah other: CAR v ESS;  COL v WCE \n"
   ]
  }
 ],
 "metadata": {
  "kernelspec": {
   "display_name": "Python 3",
   "language": "python",
   "name": "python3"
  },
  "language_info": {
   "codemirror_mode": {
    "name": "ipython",
    "version": 3
   },
   "file_extension": ".py",
   "mimetype": "text/x-python",
   "name": "python",
   "nbconvert_exporter": "python",
   "pygments_lexer": "ipython3",
   "version": "3.8.3"
  }
 },
 "nbformat": 4,
 "nbformat_minor": 4
}
